{
 "cells": [
  {
   "cell_type": "code",
   "execution_count": 100,
   "id": "4579c4ff-b322-4acd-91cd-911e4217e766",
   "metadata": {},
   "outputs": [],
   "source": []
  },
  {
   "cell_type": "code",
   "execution_count": 14,
   "id": "1c09a887-8597-4fbb-8308-5f66d2c6697a",
   "metadata": {},
   "outputs": [],
   "source": [
    "def test1(*m):\n",
    "    sum=0\n",
    "    for i in m:\n",
    "        sum+=i\n",
    "    return sum"
   ]
  },
  {
   "cell_type": "code",
   "execution_count": 15,
   "id": "1014ab58-fbd1-4056-a82a-684e5ea5db4e",
   "metadata": {},
   "outputs": [
    {
     "data": {
      "text/plain": [
       "16"
      ]
     },
     "execution_count": 15,
     "metadata": {},
     "output_type": "execute_result"
    }
   ],
   "source": [
    "test1(2,3,5,6)"
   ]
  },
  {
   "cell_type": "code",
   "execution_count": 131,
   "id": "37c374a6-89d2-4e71-946e-acce9cd7a253",
   "metadata": {},
   "outputs": [],
   "source": [
    "def test(*m):\n",
    "    l=[]\n",
    "    for i in m:\n",
    "        if i%2==0:\n",
    "            l.append(i)\n",
    "    return l"
   ]
  },
  {
   "cell_type": "code",
   "execution_count": 132,
   "id": "615b828f-b3f2-4fc1-9c83-6628edbd300c",
   "metadata": {},
   "outputs": [
    {
     "data": {
      "text/plain": [
       "[2, 4, 6]"
      ]
     },
     "execution_count": 132,
     "metadata": {},
     "output_type": "execute_result"
    }
   ],
   "source": [
    "test(1,2,3,4,5,6)"
   ]
  },
  {
   "cell_type": "code",
   "execution_count": 104,
   "id": "9f5ef394-ff3f-4c26-8fc7-700ea0ba3fa9",
   "metadata": {},
   "outputs": [],
   "source": [
    "def test3(a,b):\n",
    "    return a+b"
   ]
  },
  {
   "cell_type": "code",
   "execution_count": 105,
   "id": "0e926406-5889-43c9-809c-b2e210d7e168",
   "metadata": {},
   "outputs": [
    {
     "data": {
      "text/plain": [
       "'sekharaimnxt'"
      ]
     },
     "execution_count": 105,
     "metadata": {},
     "output_type": "execute_result"
    }
   ],
   "source": [
    "test3(\"sekhar\",\"aimnxt\")"
   ]
  },
  {
   "cell_type": "code",
   "execution_count": 106,
   "id": "cd63b376-1427-4586-b459-82dbcecbd953",
   "metadata": {},
   "outputs": [],
   "source": [
    "def test2(*m):\n",
    "    for i in m:\n",
    "        if i%2==0:\n",
    "            print(\"It is an even number\")\n",
    "        else:\n",
    "            print(\"It is an odd number\")"
   ]
  },
  {
   "cell_type": "code",
   "execution_count": 107,
   "id": "769858c2-e2a3-48a9-8472-abc2d242280b",
   "metadata": {},
   "outputs": [
    {
     "name": "stdout",
     "output_type": "stream",
     "text": [
      "It is an even number\n"
     ]
    }
   ],
   "source": [
    "test2(0)"
   ]
  },
  {
   "cell_type": "code",
   "execution_count": 108,
   "id": "db2ccaad-1bc2-4340-af62-aa02078930a7",
   "metadata": {},
   "outputs": [
    {
     "name": "stdout",
     "output_type": "stream",
     "text": [
      "It is an odd number\n"
     ]
    }
   ],
   "source": [
    "test2(3)"
   ]
  },
  {
   "cell_type": "code",
   "execution_count": 109,
   "id": "a6cc5aa1-066e-4d13-8c93-8acb3acf27c5",
   "metadata": {},
   "outputs": [],
   "source": [
    "l=[2,3,4,5]"
   ]
  },
  {
   "cell_type": "code",
   "execution_count": 110,
   "id": "3c94b588-579b-4ec4-b73e-534eb4ddb16b",
   "metadata": {},
   "outputs": [
    {
     "data": {
      "text/plain": [
       "14"
      ]
     },
     "execution_count": 110,
     "metadata": {},
     "output_type": "execute_result"
    }
   ],
   "source": [
    "sum([i for i in l])"
   ]
  },
  {
   "cell_type": "code",
   "execution_count": 111,
   "id": "74d50d6a-6f35-46ef-b6c4-a1d6d625cb8e",
   "metadata": {},
   "outputs": [],
   "source": [
    "l=[1,2,3,4,\"sekhar\",\"aimnxt\"]"
   ]
  },
  {
   "cell_type": "code",
   "execution_count": 124,
   "id": "ea20edbf-df78-46c0-a3fd-81d992991529",
   "metadata": {},
   "outputs": [
    {
     "data": {
      "text/plain": [
       "10"
      ]
     },
     "execution_count": 124,
     "metadata": {},
     "output_type": "execute_result"
    }
   ],
   "source": [
    "sum([i for i in l if type(i)==int])"
   ]
  },
  {
   "cell_type": "code",
   "execution_count": 4,
   "id": "1a95e0f4-b9bc-4bf4-a5c0-d3c91a373707",
   "metadata": {},
   "outputs": [],
   "source": [
    "n= lambda a: a*a"
   ]
  },
  {
   "cell_type": "code",
   "execution_count": 5,
   "id": "cd8d961c-bed6-48a4-985d-8b33d1166e4b",
   "metadata": {},
   "outputs": [
    {
     "data": {
      "text/plain": [
       "4"
      ]
     },
     "execution_count": 5,
     "metadata": {},
     "output_type": "execute_result"
    }
   ],
   "source": [
    "n(2)"
   ]
  },
  {
   "cell_type": "code",
   "execution_count": 6,
   "id": "59963571-aa23-4880-8c1e-dcbe1ee9ce0c",
   "metadata": {},
   "outputs": [
    {
     "data": {
      "text/plain": [
       "16"
      ]
     },
     "execution_count": 6,
     "metadata": {},
     "output_type": "execute_result"
    }
   ],
   "source": [
    "n(4)"
   ]
  },
  {
   "cell_type": "code",
   "execution_count": 3,
   "id": "127e52b2-68ea-4604-a8e9-1105e40bbfca",
   "metadata": {},
   "outputs": [],
   "source": [
    "def test4():\n",
    "    try:\n",
    "         a=int(input(\"Please enter the value of a:\"))\n",
    "         b=int(input(\"Please enter the value of b:\"))\n",
    "         d=a/b\n",
    "    except ZeroDivisionError:\n",
    "           return d"
   ]
  },
  {
   "cell_type": "code",
   "execution_count": 2,
   "id": "eae2039e-7c77-411b-bd35-4eed1bba3abb",
   "metadata": {},
   "outputs": [
    {
     "name": "stdin",
     "output_type": "stream",
     "text": [
      "Please enter the value of a: 6\n",
      "Please enter the value of b: 3\n"
     ]
    }
   ],
   "source": [
    "test4()"
   ]
  },
  {
   "cell_type": "code",
   "execution_count": 10,
   "id": "8d82df34-db3c-4109-ac9a-c2ba8c1ba353",
   "metadata": {},
   "outputs": [],
   "source": [
    "def test5(*m):\n",
    "    l=[]\n",
    "    for i in m:\n",
    "        if type(i)==int and i%2==0:\n",
    "         l.append(i)\n",
    "    return l"
   ]
  },
  {
   "cell_type": "code",
   "execution_count": 11,
   "id": "e0cb57f8-a68b-4c6c-b576-ddcdb7a526ed",
   "metadata": {},
   "outputs": [
    {
     "data": {
      "text/plain": [
       "[2, 4]"
      ]
     },
     "execution_count": 11,
     "metadata": {},
     "output_type": "execute_result"
    }
   ],
   "source": [
    "test5(1,2,4,5)"
   ]
  },
  {
   "cell_type": "code",
   "execution_count": 2,
   "id": "025b50c3-ab0d-460c-83d4-87f32f6b08fe",
   "metadata": {},
   "outputs": [
    {
     "name": "stdin",
     "output_type": "stream",
     "text": [
      "Enter the number: 3\n"
     ]
    },
    {
     "data": {
      "text/plain": [
       "[9]"
      ]
     },
     "execution_count": 2,
     "metadata": {},
     "output_type": "execute_result"
    }
   ],
   "source": [
    "a=int(input(\"Enter the number:\"))\n",
    "[a*a]"
   ]
  },
  {
   "cell_type": "code",
   "execution_count": 4,
   "id": "02add72b-4ba1-4240-8a3a-9eb71bc7e903",
   "metadata": {},
   "outputs": [],
   "source": [
    "def test6():\n",
    "    S1=\"sekhar\"\n",
    "    S2=\"datascience\"\n",
    "    return S1+S2"
   ]
  },
  {
   "cell_type": "code",
   "execution_count": 5,
   "id": "c6c942b2-c32f-4bb7-af08-b9770acfb90e",
   "metadata": {},
   "outputs": [
    {
     "data": {
      "text/plain": [
       "'sekhardatascience'"
      ]
     },
     "execution_count": 5,
     "metadata": {},
     "output_type": "execute_result"
    }
   ],
   "source": [
    "test6()"
   ]
  },
  {
   "cell_type": "code",
   "execution_count": 16,
   "id": "c8f4b3fc-5bbe-4b8e-a3fc-11bacc420cef",
   "metadata": {},
   "outputs": [
    {
     "name": "stdout",
     "output_type": "stream",
     "text": [
      "1\n",
      "3\n",
      "5\n",
      "7\n",
      "9\n",
      "11\n",
      "13\n",
      "15\n",
      "17\n",
      "19\n",
      "21\n",
      "23\n",
      "25\n",
      "27\n",
      "29\n",
      "31\n",
      "33\n",
      "35\n",
      "37\n",
      "39\n",
      "41\n",
      "43\n",
      "45\n",
      "47\n",
      "49\n"
     ]
    }
   ],
   "source": [
    "for i in range(1,51):\n",
    "    if i%2!=0:\n",
    "        print(i)"
   ]
  },
  {
   "cell_type": "code",
   "execution_count": 21,
   "id": "69cebfa6-c514-4210-8cd4-7c68168131b8",
   "metadata": {},
   "outputs": [
    {
     "name": "stdout",
     "output_type": "stream",
     "text": [
      "15\n",
      "30\n",
      "45\n",
      "60\n",
      "75\n",
      "90\n"
     ]
    }
   ],
   "source": [
    "for i in range(1,100):\n",
    "    if i%3==0 and i%5==0:\n",
    "        print(i)"
   ]
  },
  {
   "cell_type": "code",
   "execution_count": 30,
   "id": "3119eec4-8a8a-4ec9-97cd-db3c8f5bd8f6",
   "metadata": {},
   "outputs": [],
   "source": [
    "def fibonacci(n):\n",
    "    a,b=0,1\n",
    "    for i in range(n):\n",
    "        print(a,end=\"  \")\n",
    "        a,b=b,a+b"
   ]
  },
  {
   "cell_type": "code",
   "execution_count": 32,
   "id": "25bb1d5a-f684-4c6a-a8e9-f9c77b7ec71d",
   "metadata": {},
   "outputs": [
    {
     "name": "stdout",
     "output_type": "stream",
     "text": [
      "0  1  1  2  3  5  8  13  21  34  55  89  "
     ]
    }
   ],
   "source": [
    "fibonacci(12)"
   ]
  },
  {
   "cell_type": "code",
   "execution_count": 51,
   "id": "e0b63f62-e611-4d03-bcc4-144cd854c51d",
   "metadata": {},
   "outputs": [
    {
     "name": "stdout",
     "output_type": "stream",
     "text": [
      "['e', 'a']\n"
     ]
    }
   ],
   "source": [
    "s = \"sekhar\"\n",
    "v = \"aeiouAEIOU\"\n",
    "n= [i for i in s if i in v]\n",
    "print(n)"
   ]
  },
  {
   "cell_type": "code",
   "execution_count": null,
   "id": "a75c27e3-85c8-4a6e-bd1c-21fca091cf88",
   "metadata": {},
   "outputs": [],
   "source": []
  }
 ],
 "metadata": {
  "kernelspec": {
   "display_name": "Python 3 (ipykernel)",
   "language": "python",
   "name": "python3"
  },
  "language_info": {
   "codemirror_mode": {
    "name": "ipython",
    "version": 3
   },
   "file_extension": ".py",
   "mimetype": "text/x-python",
   "name": "python",
   "nbconvert_exporter": "python",
   "pygments_lexer": "ipython3",
   "version": "3.13.5"
  }
 },
 "nbformat": 4,
 "nbformat_minor": 5
}
